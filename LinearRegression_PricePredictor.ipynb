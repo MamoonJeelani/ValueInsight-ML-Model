{
  "nbformat": 4,
  "nbformat_minor": 0,
  "metadata": {
    "colab": {
      "provenance": [],
      "toc_visible": true
    },
    "kernelspec": {
      "name": "python3",
      "display_name": "Python 3"
    },
    "language_info": {
      "name": "python"
    }
  },
  "cells": [
    {
      "cell_type": "code",
      "source": [
        "import pandas as pd\n",
        "import numpy as np\n",
        "\n",
        "x_train = np.array([1, 2, 3])\n",
        "y_train = np.array([100, 200, 300])"
      ],
      "metadata": {
        "id": "ltyzukUdAHif"
      },
      "execution_count": 5,
      "outputs": []
    },
    {
      "cell_type": "code",
      "source": [
        "def cost_function(x, y, w, b):\n",
        "    m = x.shape[0]\n",
        "    cost_sum = 0  # Initialize cost_sum\n",
        "    for i in range(m):\n",
        "        f_wb = w * x[i] + b\n",
        "        cost_sum += (f_wb - y[i])**2  # Update cost_sum\n",
        "    total_cost = (1/(2*m)) * cost_sum\n",
        "    return total_cost\n"
      ],
      "metadata": {
        "id": "vNKz36B-I8ft"
      },
      "execution_count": null,
      "outputs": []
    },
    {
      "cell_type": "code",
      "source": [
        "def gradient(x, y, w, b):\n",
        "    m = x.shape[0]\n",
        "    dj_db = 0\n",
        "    dj_dw = 0\n",
        "\n",
        "    for i in range(m):\n",
        "        f_wb = w * x[i] + b\n",
        "        dj_db_i = (f_wb - y[i]) * x[i]\n",
        "        dj_dw_i = f_wb - y[i]\n",
        "        dj_dw += dj_dw_i\n",
        "        dj_db += dj_db_i\n",
        "\n",
        "    return dj_db/m, dj_dw/m"
      ],
      "metadata": {
        "id": "Lv8xvjPJPpas"
      },
      "execution_count": 15,
      "outputs": []
    },
    {
      "cell_type": "code",
      "source": [
        "def gradient_descent(x, y, w_init, b_init, alpha, number_iters, cost_function, gradient_function):\n",
        "    w = w_init\n",
        "    b = b_init\n",
        "\n",
        "    for i in range(number_iters):\n",
        "        dj_dw, dj_db = gradient_function(x, y, w, b)\n",
        "        w = w - alpha * dj_dw  # Update w directly\n",
        "        b = b - alpha * dj_db  # Update b directly\n",
        "\n",
        "    return w, b"
      ],
      "metadata": {
        "id": "_WxpP1jDUSv8"
      },
      "execution_count": 3,
      "outputs": []
    },
    {
      "cell_type": "code",
      "source": [
        "w_init = 0\n",
        "b_init = 0\n",
        "tm_alpha = 0.01\n",
        "iterations = 1000\n",
        "\n",
        "w_final, b_final = gradient_descent(x_train, y_train, w_init, b_init, tm_alpha, iterations, cost_function, gradient)\n",
        "print(f\"(w, b) found by gradient descent: ({w_final:8.4f}, {b_final:8.4f})\")\n",
        "print(f\"1000 sqft house prediction {w_final*1 + b_final:0.1f} Thousand dollars\")\n"
      ],
      "metadata": {
        "colab": {
          "base_uri": "https://localhost:8080/"
        },
        "id": "BrV94YH1yrnJ",
        "outputId": "e7e0317b-0769-489d-84d5-eaaaf2a0d181"
      },
      "execution_count": 18,
      "outputs": [
        {
          "output_type": "stream",
          "name": "stdout",
          "text": [
            "(w, b) found by gradient descent: ( 95.1296,  11.0715)\n",
            "1000 sqft house prediction 34.9 Thousand dollars\n"
          ]
        }
      ]
    }
  ]
}